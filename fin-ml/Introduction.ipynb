{
 "cells": [
  {
   "cell_type": "code",
   "execution_count": 61,
   "metadata": {},
   "outputs": [],
   "source": [
    "import pandas as pd\n",
    "import pandas_datareader.data as web\n",
    "import numpy as np\n",
    "\n",
    "from sklearn.preprocessing import MinMaxScaler\n",
    "from sklearn.preprocessing import StandardScaler\n",
    "from sklearn.preprocessing import Normalizer"
   ]
  },
  {
   "cell_type": "code",
   "execution_count": 14,
   "metadata": {},
   "outputs": [],
   "source": [
    "### read csv from url"
   ]
  },
  {
   "cell_type": "code",
   "execution_count": 15,
   "metadata": {},
   "outputs": [],
   "source": [
    "url= 'https://tinyurl.com/4tfzdbmh'\n",
    "data = pd.read_csv(url)"
   ]
  },
  {
   "cell_type": "code",
   "execution_count": 16,
   "metadata": {},
   "outputs": [
    {
     "data": {
      "text/html": [
       "<div>\n",
       "<style scoped>\n",
       "    .dataframe tbody tr th:only-of-type {\n",
       "        vertical-align: middle;\n",
       "    }\n",
       "\n",
       "    .dataframe tbody tr th {\n",
       "        vertical-align: top;\n",
       "    }\n",
       "\n",
       "    .dataframe thead th {\n",
       "        text-align: right;\n",
       "    }\n",
       "</style>\n",
       "<table border=\"1\" class=\"dataframe\">\n",
       "  <thead>\n",
       "    <tr style=\"text-align: right;\">\n",
       "      <th></th>\n",
       "      <th>MMM</th>\n",
       "    </tr>\n",
       "  </thead>\n",
       "  <tbody>\n",
       "    <tr>\n",
       "      <th>0</th>\n",
       "      <td>29.847043</td>\n",
       "    </tr>\n",
       "    <tr>\n",
       "      <th>1</th>\n",
       "      <td>28.661131</td>\n",
       "    </tr>\n",
       "    <tr>\n",
       "      <th>2</th>\n",
       "      <td>30.122175</td>\n",
       "    </tr>\n",
       "    <tr>\n",
       "      <th>3</th>\n",
       "      <td>31.877325</td>\n",
       "    </tr>\n",
       "    <tr>\n",
       "      <th>4</th>\n",
       "      <td>32.509812</td>\n",
       "    </tr>\n",
       "    <tr>\n",
       "      <th>...</th>\n",
       "      <td>...</td>\n",
       "    </tr>\n",
       "    <tr>\n",
       "      <th>4799</th>\n",
       "      <td>200.300000</td>\n",
       "    </tr>\n",
       "    <tr>\n",
       "      <th>4800</th>\n",
       "      <td>199.160000</td>\n",
       "    </tr>\n",
       "    <tr>\n",
       "      <th>4801</th>\n",
       "      <td>200.210000</td>\n",
       "    </tr>\n",
       "    <tr>\n",
       "      <th>4802</th>\n",
       "      <td>201.120000</td>\n",
       "    </tr>\n",
       "    <tr>\n",
       "      <th>4803</th>\n",
       "      <td>202.570000</td>\n",
       "    </tr>\n",
       "  </tbody>\n",
       "</table>\n",
       "<p>4804 rows × 1 columns</p>\n",
       "</div>"
      ],
      "text/plain": [
       "             MMM\n",
       "0      29.847043\n",
       "1      28.661131\n",
       "2      30.122175\n",
       "3      31.877325\n",
       "4      32.509812\n",
       "...          ...\n",
       "4799  200.300000\n",
       "4800  199.160000\n",
       "4801  200.210000\n",
       "4802  201.120000\n",
       "4803  202.570000\n",
       "\n",
       "[4804 rows x 1 columns]"
      ]
     },
     "execution_count": 16,
     "metadata": {},
     "output_type": "execute_result"
    }
   ],
   "source": [
    "data[[\"MMM\"]]"
   ]
  },
  {
   "cell_type": "code",
   "execution_count": 17,
   "metadata": {},
   "outputs": [],
   "source": [
    "### read csv from pandas web data reader\n"
   ]
  },
  {
   "cell_type": "code",
   "execution_count": 21,
   "metadata": {},
   "outputs": [
    {
     "name": "stdout",
     "output_type": "stream",
     "text": [
      "/opt/conda/lib/python3.7/site-packages/secretstorage/dhcrypto.py:16: CryptographyDeprecationWarning: int_from_bytes is deprecated, use int.from_bytes instead\n",
      "  from cryptography.utils import int_from_bytes\n",
      "/opt/conda/lib/python3.7/site-packages/secretstorage/util.py:25: CryptographyDeprecationWarning: int_from_bytes is deprecated, use int.from_bytes instead\n",
      "  from cryptography.utils import int_from_bytes\n",
      "Requirement already satisfied: pandas-datareader in /opt/conda/lib/python3.7/site-packages (0.10.0)\n",
      "Requirement already satisfied: lxml in /opt/conda/lib/python3.7/site-packages (from pandas-datareader) (4.6.4)\n",
      "Requirement already satisfied: pandas>=0.23 in /opt/conda/lib/python3.7/site-packages (from pandas-datareader) (1.0.1)\n",
      "Requirement already satisfied: requests>=2.19.0 in /opt/conda/lib/python3.7/site-packages (from pandas-datareader) (2.26.0)\n",
      "Requirement already satisfied: numpy>=1.13.3 in /opt/conda/lib/python3.7/site-packages (from pandas>=0.23->pandas-datareader) (1.20.3)\n",
      "Requirement already satisfied: pytz>=2017.2 in /opt/conda/lib/python3.7/site-packages (from pandas>=0.23->pandas-datareader) (2019.3)\n",
      "Requirement already satisfied: python-dateutil>=2.6.1 in /opt/conda/lib/python3.7/site-packages (from pandas>=0.23->pandas-datareader) (2.8.1)\n",
      "Requirement already satisfied: idna<4,>=2.5 in /opt/conda/lib/python3.7/site-packages (from requests>=2.19.0->pandas-datareader) (2.8)\n",
      "Requirement already satisfied: urllib3<1.27,>=1.21.1 in /opt/conda/lib/python3.7/site-packages (from requests>=2.19.0->pandas-datareader) (1.26.7)\n",
      "Requirement already satisfied: charset-normalizer~=2.0.0 in /opt/conda/lib/python3.7/site-packages (from requests>=2.19.0->pandas-datareader) (2.0.4)\n",
      "Requirement already satisfied: certifi>=2017.4.17 in /opt/conda/lib/python3.7/site-packages (from requests>=2.19.0->pandas-datareader) (2021.10.8)\n",
      "Requirement already satisfied: six>=1.5 in /opt/conda/lib/python3.7/site-packages (from python-dateutil>=2.6.1->pandas>=0.23->pandas-datareader) (1.14.0)\n",
      "\u001b[33mWARNING: Running pip as the 'root' user can result in broken permissions and conflicting behaviour with the system package manager. It is recommended to use a virtual environment instead: https://pip.pypa.io/warnings/venv\u001b[0m\n",
      "\u001b[33mWARNING: You are using pip version 21.3.1; however, version 22.0.3 is available.\n",
      "You should consider upgrading via the '/opt/conda/bin/python -m pip install --upgrade pip' command.\u001b[0m\n",
      "Note: you may need to restart the kernel to use updated packages.\n"
     ]
    }
   ],
   "source": [
    "pip install pandas-datareader"
   ]
  },
  {
   "cell_type": "code",
   "execution_count": 22,
   "metadata": {},
   "outputs": [],
   "source": [
    "data_web=web.DataReader([\"GE\"], \"yahoo\",start=\"2019-01-01\",end = \"2019-02-01\")"
   ]
  },
  {
   "cell_type": "code",
   "execution_count": 23,
   "metadata": {},
   "outputs": [
    {
     "data": {
      "text/html": [
       "<div>\n",
       "<style scoped>\n",
       "    .dataframe tbody tr th:only-of-type {\n",
       "        vertical-align: middle;\n",
       "    }\n",
       "\n",
       "    .dataframe tbody tr th {\n",
       "        vertical-align: top;\n",
       "    }\n",
       "\n",
       "    .dataframe thead tr th {\n",
       "        text-align: left;\n",
       "    }\n",
       "\n",
       "    .dataframe thead tr:last-of-type th {\n",
       "        text-align: right;\n",
       "    }\n",
       "</style>\n",
       "<table border=\"1\" class=\"dataframe\">\n",
       "  <thead>\n",
       "    <tr>\n",
       "      <th>Attributes</th>\n",
       "      <th>Adj Close</th>\n",
       "      <th>Close</th>\n",
       "      <th>High</th>\n",
       "      <th>Low</th>\n",
       "      <th>Open</th>\n",
       "      <th>Volume</th>\n",
       "    </tr>\n",
       "    <tr>\n",
       "      <th>Symbols</th>\n",
       "      <th>GE</th>\n",
       "      <th>GE</th>\n",
       "      <th>GE</th>\n",
       "      <th>GE</th>\n",
       "      <th>GE</th>\n",
       "      <th>GE</th>\n",
       "    </tr>\n",
       "    <tr>\n",
       "      <th>Date</th>\n",
       "      <th></th>\n",
       "      <th></th>\n",
       "      <th></th>\n",
       "      <th></th>\n",
       "      <th></th>\n",
       "      <th></th>\n",
       "    </tr>\n",
       "  </thead>\n",
       "  <tbody>\n",
       "    <tr>\n",
       "      <th>2019-01-02</th>\n",
       "      <td>61.171005</td>\n",
       "      <td>61.923077</td>\n",
       "      <td>62.923077</td>\n",
       "      <td>57.000000</td>\n",
       "      <td>57.384617</td>\n",
       "      <td>16816033</td>\n",
       "    </tr>\n",
       "    <tr>\n",
       "      <th>2019-01-03</th>\n",
       "      <td>61.246998</td>\n",
       "      <td>62.000000</td>\n",
       "      <td>63.076923</td>\n",
       "      <td>59.846153</td>\n",
       "      <td>61.692307</td>\n",
       "      <td>15983370</td>\n",
       "    </tr>\n",
       "    <tr>\n",
       "      <th>2019-01-04</th>\n",
       "      <td>62.538807</td>\n",
       "      <td>63.307693</td>\n",
       "      <td>63.538464</td>\n",
       "      <td>61.384617</td>\n",
       "      <td>63.000000</td>\n",
       "      <td>15610894</td>\n",
       "    </tr>\n",
       "    <tr>\n",
       "      <th>2019-01-07</th>\n",
       "      <td>66.414230</td>\n",
       "      <td>67.230766</td>\n",
       "      <td>67.615387</td>\n",
       "      <td>63.769230</td>\n",
       "      <td>65.769234</td>\n",
       "      <td>23358972</td>\n",
       "    </tr>\n",
       "    <tr>\n",
       "      <th>2019-01-08</th>\n",
       "      <td>65.046432</td>\n",
       "      <td>65.846153</td>\n",
       "      <td>69.538460</td>\n",
       "      <td>65.538460</td>\n",
       "      <td>68.538460</td>\n",
       "      <td>19107452</td>\n",
       "    </tr>\n",
       "  </tbody>\n",
       "</table>\n",
       "</div>"
      ],
      "text/plain": [
       "Attributes  Adj Close      Close       High        Low       Open    Volume\n",
       "Symbols            GE         GE         GE         GE         GE        GE\n",
       "Date                                                                       \n",
       "2019-01-02  61.171005  61.923077  62.923077  57.000000  57.384617  16816033\n",
       "2019-01-03  61.246998  62.000000  63.076923  59.846153  61.692307  15983370\n",
       "2019-01-04  62.538807  63.307693  63.538464  61.384617  63.000000  15610894\n",
       "2019-01-07  66.414230  67.230766  67.615387  63.769230  65.769234  23358972\n",
       "2019-01-08  65.046432  65.846153  69.538460  65.538460  68.538460  19107452"
      ]
     },
     "execution_count": 23,
     "metadata": {},
     "output_type": "execute_result"
    }
   ],
   "source": [
    "data_web.head()"
   ]
  },
  {
   "cell_type": "code",
   "execution_count": 24,
   "metadata": {},
   "outputs": [
    {
     "data": {
      "text/html": [
       "<div>\n",
       "<style scoped>\n",
       "    .dataframe tbody tr th:only-of-type {\n",
       "        vertical-align: middle;\n",
       "    }\n",
       "\n",
       "    .dataframe tbody tr th {\n",
       "        vertical-align: top;\n",
       "    }\n",
       "\n",
       "    .dataframe thead tr th {\n",
       "        text-align: left;\n",
       "    }\n",
       "</style>\n",
       "<table border=\"1\" class=\"dataframe\">\n",
       "  <thead>\n",
       "    <tr>\n",
       "      <th>Attributes</th>\n",
       "      <th>Adj Close</th>\n",
       "      <th>Close</th>\n",
       "      <th>High</th>\n",
       "      <th>Low</th>\n",
       "      <th>Open</th>\n",
       "      <th>Volume</th>\n",
       "    </tr>\n",
       "    <tr>\n",
       "      <th>Symbols</th>\n",
       "      <th>GE</th>\n",
       "      <th>GE</th>\n",
       "      <th>GE</th>\n",
       "      <th>GE</th>\n",
       "      <th>GE</th>\n",
       "      <th>GE</th>\n",
       "    </tr>\n",
       "  </thead>\n",
       "  <tbody>\n",
       "    <tr>\n",
       "      <th>count</th>\n",
       "      <td>22.000000</td>\n",
       "      <td>22.000000</td>\n",
       "      <td>22.000000</td>\n",
       "      <td>22.000000</td>\n",
       "      <td>22.000000</td>\n",
       "      <td>2.200000e+01</td>\n",
       "    </tr>\n",
       "    <tr>\n",
       "      <th>mean</th>\n",
       "      <td>67.505707</td>\n",
       "      <td>68.335664</td>\n",
       "      <td>69.622377</td>\n",
       "      <td>66.395105</td>\n",
       "      <td>67.737762</td>\n",
       "      <td>1.565574e+07</td>\n",
       "    </tr>\n",
       "    <tr>\n",
       "      <th>std</th>\n",
       "      <td>3.978016</td>\n",
       "      <td>4.026927</td>\n",
       "      <td>4.553486</td>\n",
       "      <td>4.233685</td>\n",
       "      <td>4.328291</td>\n",
       "      <td>7.473630e+06</td>\n",
       "    </tr>\n",
       "    <tr>\n",
       "      <th>min</th>\n",
       "      <td>61.171005</td>\n",
       "      <td>61.923077</td>\n",
       "      <td>62.923077</td>\n",
       "      <td>57.000000</td>\n",
       "      <td>57.384617</td>\n",
       "      <td>9.410167e+06</td>\n",
       "    </tr>\n",
       "    <tr>\n",
       "      <th>25%</th>\n",
       "      <td>65.939306</td>\n",
       "      <td>66.750002</td>\n",
       "      <td>68.173077</td>\n",
       "      <td>65.365385</td>\n",
       "      <td>65.923079</td>\n",
       "      <td>1.178550e+07</td>\n",
       "    </tr>\n",
       "    <tr>\n",
       "      <th>50%</th>\n",
       "      <td>67.630051</td>\n",
       "      <td>68.461540</td>\n",
       "      <td>69.192307</td>\n",
       "      <td>66.576923</td>\n",
       "      <td>68.153843</td>\n",
       "      <td>1.433111e+07</td>\n",
       "    </tr>\n",
       "    <tr>\n",
       "      <th>75%</th>\n",
       "      <td>68.693886</td>\n",
       "      <td>69.538460</td>\n",
       "      <td>70.576921</td>\n",
       "      <td>67.365383</td>\n",
       "      <td>68.942305</td>\n",
       "      <td>1.589025e+07</td>\n",
       "    </tr>\n",
       "    <tr>\n",
       "      <th>max</th>\n",
       "      <td>77.432587</td>\n",
       "      <td>78.384613</td>\n",
       "      <td>82.846153</td>\n",
       "      <td>76.615387</td>\n",
       "      <td>78.461540</td>\n",
       "      <td>4.532314e+07</td>\n",
       "    </tr>\n",
       "  </tbody>\n",
       "</table>\n",
       "</div>"
      ],
      "text/plain": [
       "Attributes  Adj Close      Close       High        Low       Open  \\\n",
       "Symbols            GE         GE         GE         GE         GE   \n",
       "count       22.000000  22.000000  22.000000  22.000000  22.000000   \n",
       "mean        67.505707  68.335664  69.622377  66.395105  67.737762   \n",
       "std          3.978016   4.026927   4.553486   4.233685   4.328291   \n",
       "min         61.171005  61.923077  62.923077  57.000000  57.384617   \n",
       "25%         65.939306  66.750002  68.173077  65.365385  65.923079   \n",
       "50%         67.630051  68.461540  69.192307  66.576923  68.153843   \n",
       "75%         68.693886  69.538460  70.576921  67.365383  68.942305   \n",
       "max         77.432587  78.384613  82.846153  76.615387  78.461540   \n",
       "\n",
       "Attributes        Volume  \n",
       "Symbols               GE  \n",
       "count       2.200000e+01  \n",
       "mean        1.565574e+07  \n",
       "std         7.473630e+06  \n",
       "min         9.410167e+06  \n",
       "25%         1.178550e+07  \n",
       "50%         1.433111e+07  \n",
       "75%         1.589025e+07  \n",
       "max         4.532314e+07  "
      ]
     },
     "execution_count": 24,
     "metadata": {},
     "output_type": "execute_result"
    }
   ],
   "source": [
    "data_web.describe()"
   ]
  },
  {
   "cell_type": "code",
   "execution_count": 25,
   "metadata": {},
   "outputs": [
    {
     "data": {
      "text/plain": [
       "(22, 6)"
      ]
     },
     "execution_count": 25,
     "metadata": {},
     "output_type": "execute_result"
    }
   ],
   "source": [
    "data_web.shape"
   ]
  },
  {
   "cell_type": "code",
   "execution_count": 26,
   "metadata": {},
   "outputs": [],
   "source": [
    "pd.set_option(\"precision\",3) # za decimalna mesta"
   ]
  },
  {
   "cell_type": "code",
   "execution_count": 27,
   "metadata": {},
   "outputs": [
    {
     "data": {
      "text/html": [
       "<div>\n",
       "<style scoped>\n",
       "    .dataframe tbody tr th:only-of-type {\n",
       "        vertical-align: middle;\n",
       "    }\n",
       "\n",
       "    .dataframe tbody tr th {\n",
       "        vertical-align: top;\n",
       "    }\n",
       "\n",
       "    .dataframe thead tr th {\n",
       "        text-align: left;\n",
       "    }\n",
       "</style>\n",
       "<table border=\"1\" class=\"dataframe\">\n",
       "  <thead>\n",
       "    <tr>\n",
       "      <th>Attributes</th>\n",
       "      <th>Adj Close</th>\n",
       "      <th>Close</th>\n",
       "      <th>High</th>\n",
       "      <th>Low</th>\n",
       "      <th>Open</th>\n",
       "      <th>Volume</th>\n",
       "    </tr>\n",
       "    <tr>\n",
       "      <th>Symbols</th>\n",
       "      <th>GE</th>\n",
       "      <th>GE</th>\n",
       "      <th>GE</th>\n",
       "      <th>GE</th>\n",
       "      <th>GE</th>\n",
       "      <th>GE</th>\n",
       "    </tr>\n",
       "  </thead>\n",
       "  <tbody>\n",
       "    <tr>\n",
       "      <th>count</th>\n",
       "      <td>22.000</td>\n",
       "      <td>22.000</td>\n",
       "      <td>22.000</td>\n",
       "      <td>22.000</td>\n",
       "      <td>22.000</td>\n",
       "      <td>2.200e+01</td>\n",
       "    </tr>\n",
       "    <tr>\n",
       "      <th>mean</th>\n",
       "      <td>67.506</td>\n",
       "      <td>68.336</td>\n",
       "      <td>69.622</td>\n",
       "      <td>66.395</td>\n",
       "      <td>67.738</td>\n",
       "      <td>1.566e+07</td>\n",
       "    </tr>\n",
       "    <tr>\n",
       "      <th>std</th>\n",
       "      <td>3.978</td>\n",
       "      <td>4.027</td>\n",
       "      <td>4.553</td>\n",
       "      <td>4.234</td>\n",
       "      <td>4.328</td>\n",
       "      <td>7.474e+06</td>\n",
       "    </tr>\n",
       "    <tr>\n",
       "      <th>min</th>\n",
       "      <td>61.171</td>\n",
       "      <td>61.923</td>\n",
       "      <td>62.923</td>\n",
       "      <td>57.000</td>\n",
       "      <td>57.385</td>\n",
       "      <td>9.410e+06</td>\n",
       "    </tr>\n",
       "    <tr>\n",
       "      <th>25%</th>\n",
       "      <td>65.939</td>\n",
       "      <td>66.750</td>\n",
       "      <td>68.173</td>\n",
       "      <td>65.365</td>\n",
       "      <td>65.923</td>\n",
       "      <td>1.179e+07</td>\n",
       "    </tr>\n",
       "    <tr>\n",
       "      <th>50%</th>\n",
       "      <td>67.630</td>\n",
       "      <td>68.462</td>\n",
       "      <td>69.192</td>\n",
       "      <td>66.577</td>\n",
       "      <td>68.154</td>\n",
       "      <td>1.433e+07</td>\n",
       "    </tr>\n",
       "    <tr>\n",
       "      <th>75%</th>\n",
       "      <td>68.694</td>\n",
       "      <td>69.538</td>\n",
       "      <td>70.577</td>\n",
       "      <td>67.365</td>\n",
       "      <td>68.942</td>\n",
       "      <td>1.589e+07</td>\n",
       "    </tr>\n",
       "    <tr>\n",
       "      <th>max</th>\n",
       "      <td>77.433</td>\n",
       "      <td>78.385</td>\n",
       "      <td>82.846</td>\n",
       "      <td>76.615</td>\n",
       "      <td>78.462</td>\n",
       "      <td>4.532e+07</td>\n",
       "    </tr>\n",
       "  </tbody>\n",
       "</table>\n",
       "</div>"
      ],
      "text/plain": [
       "Attributes Adj Close   Close    High     Low    Open     Volume\n",
       "Symbols           GE      GE      GE      GE      GE         GE\n",
       "count         22.000  22.000  22.000  22.000  22.000  2.200e+01\n",
       "mean          67.506  68.336  69.622  66.395  67.738  1.566e+07\n",
       "std            3.978   4.027   4.553   4.234   4.328  7.474e+06\n",
       "min           61.171  61.923  62.923  57.000  57.385  9.410e+06\n",
       "25%           65.939  66.750  68.173  65.365  65.923  1.179e+07\n",
       "50%           67.630  68.462  69.192  66.577  68.154  1.433e+07\n",
       "75%           68.694  69.538  70.577  67.365  68.942  1.589e+07\n",
       "max           77.433  78.385  82.846  76.615  78.462  4.532e+07"
      ]
     },
     "execution_count": 27,
     "metadata": {},
     "output_type": "execute_result"
    }
   ],
   "source": [
    "data_web.describe()"
   ]
  },
  {
   "cell_type": "code",
   "execution_count": 28,
   "metadata": {},
   "outputs": [
    {
     "data": {
      "image/png": "[encoded data removed]",
      "text/plain": [
       "<Figure size 1440x720 with 6 Axes>"
      ]
     },
     "metadata": {
      "needs_background": "light"
     },
     "output_type": "display_data"
    }
   ],
   "source": [
    "from matplotlib import pyplot\n",
    "data_web.hist(figsize=(20,10));\n",
    "pyplot.show()"
   ]
  },
  {
   "cell_type": "code",
   "execution_count": 29,
   "metadata": {},
   "outputs": [
    {
     "data": {
      "image/png": "[encoded data removed]",
      "text/plain": [
       "<Figure size 720x720 with 6 Axes>"
      ]
     },
     "metadata": {
      "needs_background": "light"
     },
     "output_type": "display_data"
    }
   ],
   "source": [
    "data_web.plot(subplots = True,figsize=(10,10));"
   ]
  },
  {
   "cell_type": "code",
   "execution_count": 30,
   "metadata": {},
   "outputs": [],
   "source": [
    "person_data = pd.read_csv(\"person_data.csv\")"
   ]
  },
  {
   "cell_type": "code",
   "execution_count": 31,
   "metadata": {},
   "outputs": [
    {
     "data": {
      "text/html": [
       "<div>\n",
       "<style scoped>\n",
       "    .dataframe tbody tr th:only-of-type {\n",
       "        vertical-align: middle;\n",
       "    }\n",
       "\n",
       "    .dataframe tbody tr th {\n",
       "        vertical-align: top;\n",
       "    }\n",
       "\n",
       "    .dataframe thead th {\n",
       "        text-align: right;\n",
       "    }\n",
       "</style>\n",
       "<table border=\"1\" class=\"dataframe\">\n",
       "  <thead>\n",
       "    <tr style=\"text-align: right;\">\n",
       "      <th></th>\n",
       "      <th>name</th>\n",
       "      <th>age</th>\n",
       "      <th>height</th>\n",
       "    </tr>\n",
       "  </thead>\n",
       "  <tbody>\n",
       "    <tr>\n",
       "      <th>0</th>\n",
       "      <td>marija</td>\n",
       "      <td>12.0</td>\n",
       "      <td>120.0</td>\n",
       "    </tr>\n",
       "    <tr>\n",
       "      <th>1</th>\n",
       "      <td>jovana</td>\n",
       "      <td>20.0</td>\n",
       "      <td>160.0</td>\n",
       "    </tr>\n",
       "    <tr>\n",
       "      <th>2</th>\n",
       "      <td>alex</td>\n",
       "      <td>45.0</td>\n",
       "      <td>165.0</td>\n",
       "    </tr>\n",
       "  </tbody>\n",
       "</table>\n",
       "</div>"
      ],
      "text/plain": [
       "     name   age   height\n",
       "0  marija  12.0    120.0\n",
       "1  jovana  20.0    160.0\n",
       "2    alex  45.0    165.0"
      ]
     },
     "execution_count": 31,
     "metadata": {},
     "output_type": "execute_result"
    }
   ],
   "source": [
    "person_data.dropna(axis=0) # sve redove gde je 0"
   ]
  },
  {
   "cell_type": "code",
   "execution_count": 32,
   "metadata": {},
   "outputs": [
    {
     "data": {
      "text/html": [
       "<div>\n",
       "<style scoped>\n",
       "    .dataframe tbody tr th:only-of-type {\n",
       "        vertical-align: middle;\n",
       "    }\n",
       "\n",
       "    .dataframe tbody tr th {\n",
       "        vertical-align: top;\n",
       "    }\n",
       "\n",
       "    .dataframe thead th {\n",
       "        text-align: right;\n",
       "    }\n",
       "</style>\n",
       "<table border=\"1\" class=\"dataframe\">\n",
       "  <thead>\n",
       "    <tr style=\"text-align: right;\">\n",
       "      <th></th>\n",
       "      <th>name</th>\n",
       "      <th>age</th>\n",
       "      <th>height</th>\n",
       "    </tr>\n",
       "  </thead>\n",
       "  <tbody>\n",
       "    <tr>\n",
       "      <th>0</th>\n",
       "      <td>marija</td>\n",
       "      <td>12.0</td>\n",
       "      <td>120.0</td>\n",
       "    </tr>\n",
       "    <tr>\n",
       "      <th>1</th>\n",
       "      <td>jovana</td>\n",
       "      <td>20.0</td>\n",
       "      <td>160.0</td>\n",
       "    </tr>\n",
       "    <tr>\n",
       "      <th>2</th>\n",
       "      <td>alex</td>\n",
       "      <td>45.0</td>\n",
       "      <td>165.0</td>\n",
       "    </tr>\n",
       "    <tr>\n",
       "      <th>3</th>\n",
       "      <td>ivo</td>\n",
       "      <td>50.0</td>\n",
       "      <td>0.0</td>\n",
       "    </tr>\n",
       "    <tr>\n",
       "      <th>4</th>\n",
       "      <td>Pero</td>\n",
       "      <td>0.0</td>\n",
       "      <td>180.0</td>\n",
       "    </tr>\n",
       "  </tbody>\n",
       "</table>\n",
       "</div>"
      ],
      "text/plain": [
       "     name   age   height\n",
       "0  marija  12.0    120.0\n",
       "1  jovana  20.0    160.0\n",
       "2    alex  45.0    165.0\n",
       "3     ivo  50.0      0.0\n",
       "4    Pero   0.0    180.0"
      ]
     },
     "execution_count": 32,
     "metadata": {},
     "output_type": "execute_result"
    }
   ],
   "source": [
    "person_data.fillna(0)"
   ]
  },
  {
   "cell_type": "code",
   "execution_count": 33,
   "metadata": {},
   "outputs": [
    {
     "data": {
      "text/html": [
       "<div>\n",
       "<style scoped>\n",
       "    .dataframe tbody tr th:only-of-type {\n",
       "        vertical-align: middle;\n",
       "    }\n",
       "\n",
       "    .dataframe tbody tr th {\n",
       "        vertical-align: top;\n",
       "    }\n",
       "\n",
       "    .dataframe thead th {\n",
       "        text-align: right;\n",
       "    }\n",
       "</style>\n",
       "<table border=\"1\" class=\"dataframe\">\n",
       "  <thead>\n",
       "    <tr style=\"text-align: right;\">\n",
       "      <th></th>\n",
       "      <th>name</th>\n",
       "      <th>age</th>\n",
       "      <th>height</th>\n",
       "    </tr>\n",
       "  </thead>\n",
       "  <tbody>\n",
       "    <tr>\n",
       "      <th>0</th>\n",
       "      <td>marija</td>\n",
       "      <td>12.0</td>\n",
       "      <td>120.0</td>\n",
       "    </tr>\n",
       "    <tr>\n",
       "      <th>1</th>\n",
       "      <td>jovana</td>\n",
       "      <td>20.0</td>\n",
       "      <td>160.0</td>\n",
       "    </tr>\n",
       "    <tr>\n",
       "      <th>2</th>\n",
       "      <td>alex</td>\n",
       "      <td>45.0</td>\n",
       "      <td>165.0</td>\n",
       "    </tr>\n",
       "    <tr>\n",
       "      <th>3</th>\n",
       "      <td>ivo</td>\n",
       "      <td>50.0</td>\n",
       "      <td>NaN</td>\n",
       "    </tr>\n",
       "    <tr>\n",
       "      <th>4</th>\n",
       "      <td>Pero</td>\n",
       "      <td>NaN</td>\n",
       "      <td>180.0</td>\n",
       "    </tr>\n",
       "  </tbody>\n",
       "</table>\n",
       "</div>"
      ],
      "text/plain": [
       "     name   age   height\n",
       "0  marija  12.0    120.0\n",
       "1  jovana  20.0    160.0\n",
       "2    alex  45.0    165.0\n",
       "3     ivo  50.0      NaN\n",
       "4    Pero   NaN    180.0"
      ]
     },
     "execution_count": 33,
     "metadata": {},
     "output_type": "execute_result"
    }
   ],
   "source": [
    "person_data"
   ]
  },
  {
   "cell_type": "code",
   "execution_count": 34,
   "metadata": {},
   "outputs": [],
   "source": [
    "person_data.columns =pd.Index(map(lambda col: col.strip(),person_data.columns)) # argument vraca podatke "
   ]
  },
  {
   "cell_type": "code",
   "execution_count": 35,
   "metadata": {},
   "outputs": [],
   "source": [
    "person_data[\"age\"]=person_data[\"age\"].fillna(person_data[\"age\"].mean())"
   ]
  },
  {
   "cell_type": "code",
   "execution_count": 36,
   "metadata": {},
   "outputs": [
    {
     "data": {
      "text/plain": [
       "[0.5, 1.0, 1.5, 2.0, 2.5]"
      ]
     },
     "execution_count": 36,
     "metadata": {},
     "output_type": "execute_result"
    }
   ],
   "source": [
    "list(map(lambda x: x/2,[1,2,3,4,5]))"
   ]
  },
  {
   "cell_type": "code",
   "execution_count": 37,
   "metadata": {},
   "outputs": [
    {
     "data": {
      "text/html": [
       "<div>\n",
       "<style scoped>\n",
       "    .dataframe tbody tr th:only-of-type {\n",
       "        vertical-align: middle;\n",
       "    }\n",
       "\n",
       "    .dataframe tbody tr th {\n",
       "        vertical-align: top;\n",
       "    }\n",
       "\n",
       "    .dataframe thead tr th {\n",
       "        text-align: left;\n",
       "    }\n",
       "\n",
       "    .dataframe thead tr:last-of-type th {\n",
       "        text-align: right;\n",
       "    }\n",
       "</style>\n",
       "<table border=\"1\" class=\"dataframe\">\n",
       "  <thead>\n",
       "    <tr>\n",
       "      <th>Attributes</th>\n",
       "      <th>Adj Close</th>\n",
       "      <th>Close</th>\n",
       "      <th>High</th>\n",
       "      <th>Low</th>\n",
       "      <th>Open</th>\n",
       "      <th>Volume</th>\n",
       "    </tr>\n",
       "    <tr>\n",
       "      <th>Symbols</th>\n",
       "      <th>GE</th>\n",
       "      <th>GE</th>\n",
       "      <th>GE</th>\n",
       "      <th>GE</th>\n",
       "      <th>GE</th>\n",
       "      <th>GE</th>\n",
       "    </tr>\n",
       "    <tr>\n",
       "      <th>Date</th>\n",
       "      <th></th>\n",
       "      <th></th>\n",
       "      <th></th>\n",
       "      <th></th>\n",
       "      <th></th>\n",
       "      <th></th>\n",
       "    </tr>\n",
       "  </thead>\n",
       "  <tbody>\n",
       "    <tr>\n",
       "      <th>2019-01-02</th>\n",
       "      <td>1.000</td>\n",
       "      <td>1.000</td>\n",
       "      <td>1.000</td>\n",
       "      <td>1.000</td>\n",
       "      <td>1.000</td>\n",
       "      <td>1.825</td>\n",
       "    </tr>\n",
       "    <tr>\n",
       "      <th>2019-01-03</th>\n",
       "      <td>1.019</td>\n",
       "      <td>1.019</td>\n",
       "      <td>1.031</td>\n",
       "      <td>1.580</td>\n",
       "      <td>1.818</td>\n",
       "      <td>1.732</td>\n",
       "    </tr>\n",
       "    <tr>\n",
       "      <th>2019-01-04</th>\n",
       "      <td>1.336</td>\n",
       "      <td>1.336</td>\n",
       "      <td>1.124</td>\n",
       "      <td>1.894</td>\n",
       "      <td>2.066</td>\n",
       "      <td>1.691</td>\n",
       "    </tr>\n",
       "    <tr>\n",
       "      <th>2019-01-07</th>\n",
       "      <td>2.290</td>\n",
       "      <td>2.290</td>\n",
       "      <td>1.942</td>\n",
       "      <td>2.380</td>\n",
       "      <td>2.591</td>\n",
       "      <td>2.554</td>\n",
       "    </tr>\n",
       "    <tr>\n",
       "      <th>2019-01-08</th>\n",
       "      <td>1.953</td>\n",
       "      <td>1.953</td>\n",
       "      <td>2.328</td>\n",
       "      <td>2.741</td>\n",
       "      <td>3.117</td>\n",
       "      <td>2.080</td>\n",
       "    </tr>\n",
       "    <tr>\n",
       "      <th>2019-01-09</th>\n",
       "      <td>1.841</td>\n",
       "      <td>1.841</td>\n",
       "      <td>1.896</td>\n",
       "      <td>2.208</td>\n",
       "      <td>2.547</td>\n",
       "      <td>1.636</td>\n",
       "    </tr>\n",
       "    <tr>\n",
       "      <th>2019-01-10</th>\n",
       "      <td>2.664</td>\n",
       "      <td>2.664</td>\n",
       "      <td>2.189</td>\n",
       "      <td>2.694</td>\n",
       "      <td>2.518</td>\n",
       "      <td>1.579</td>\n",
       "    </tr>\n",
       "    <tr>\n",
       "      <th>2019-01-11</th>\n",
       "      <td>2.664</td>\n",
       "      <td>2.664</td>\n",
       "      <td>2.189</td>\n",
       "      <td>3.055</td>\n",
       "      <td>3.058</td>\n",
       "      <td>1.120</td>\n",
       "    </tr>\n",
       "    <tr>\n",
       "      <th>2019-01-14</th>\n",
       "      <td>2.589</td>\n",
       "      <td>2.589</td>\n",
       "      <td>2.266</td>\n",
       "      <td>3.118</td>\n",
       "      <td>2.971</td>\n",
       "      <td>1.135</td>\n",
       "    </tr>\n",
       "    <tr>\n",
       "      <th>2019-01-15</th>\n",
       "      <td>2.271</td>\n",
       "      <td>2.271</td>\n",
       "      <td>2.158</td>\n",
       "      <td>3.024</td>\n",
       "      <td>3.117</td>\n",
       "      <td>1.314</td>\n",
       "    </tr>\n",
       "    <tr>\n",
       "      <th>2019-01-16</th>\n",
       "      <td>2.738</td>\n",
       "      <td>2.738</td>\n",
       "      <td>2.266</td>\n",
       "      <td>2.961</td>\n",
       "      <td>2.825</td>\n",
       "      <td>1.172</td>\n",
       "    </tr>\n",
       "    <tr>\n",
       "      <th>2019-01-17</th>\n",
       "      <td>3.037</td>\n",
       "      <td>3.037</td>\n",
       "      <td>2.560</td>\n",
       "      <td>3.102</td>\n",
       "      <td>3.102</td>\n",
       "      <td>1.484</td>\n",
       "    </tr>\n",
       "    <tr>\n",
       "      <th>2019-01-18</th>\n",
       "      <td>2.888</td>\n",
       "      <td>2.888</td>\n",
       "      <td>2.653</td>\n",
       "      <td>3.541</td>\n",
       "      <td>3.584</td>\n",
       "      <td>1.295</td>\n",
       "    </tr>\n",
       "    <tr>\n",
       "      <th>2019-01-22</th>\n",
       "      <td>2.140</td>\n",
       "      <td>2.140</td>\n",
       "      <td>2.251</td>\n",
       "      <td>2.804</td>\n",
       "      <td>3.219</td>\n",
       "      <td>1.518</td>\n",
       "    </tr>\n",
       "    <tr>\n",
       "      <th>2019-01-23</th>\n",
       "      <td>2.271</td>\n",
       "      <td>2.271</td>\n",
       "      <td>2.019</td>\n",
       "      <td>2.882</td>\n",
       "      <td>2.796</td>\n",
       "      <td>1.000</td>\n",
       "    </tr>\n",
       "    <tr>\n",
       "      <th>2019-01-24</th>\n",
       "      <td>2.364</td>\n",
       "      <td>2.364</td>\n",
       "      <td>2.220</td>\n",
       "      <td>2.882</td>\n",
       "      <td>2.708</td>\n",
       "      <td>1.260</td>\n",
       "    </tr>\n",
       "    <tr>\n",
       "      <th>2019-01-25</th>\n",
       "      <td>3.075</td>\n",
       "      <td>3.075</td>\n",
       "      <td>2.591</td>\n",
       "      <td>3.243</td>\n",
       "      <td>3.029</td>\n",
       "      <td>1.578</td>\n",
       "    </tr>\n",
       "    <tr>\n",
       "      <th>2019-01-28</th>\n",
       "      <td>2.645</td>\n",
       "      <td>2.645</td>\n",
       "      <td>2.266</td>\n",
       "      <td>3.102</td>\n",
       "      <td>3.219</td>\n",
       "      <td>1.279</td>\n",
       "    </tr>\n",
       "    <tr>\n",
       "      <th>2019-01-29</th>\n",
       "      <td>2.589</td>\n",
       "      <td>2.589</td>\n",
       "      <td>2.467</td>\n",
       "      <td>2.945</td>\n",
       "      <td>3.102</td>\n",
       "      <td>1.609</td>\n",
       "    </tr>\n",
       "    <tr>\n",
       "      <th>2019-01-30</th>\n",
       "      <td>2.963</td>\n",
       "      <td>2.963</td>\n",
       "      <td>2.699</td>\n",
       "      <td>3.306</td>\n",
       "      <td>3.219</td>\n",
       "      <td>1.203</td>\n",
       "    </tr>\n",
       "    <tr>\n",
       "      <th>2019-01-31</th>\n",
       "      <td>4.944</td>\n",
       "      <td>4.944</td>\n",
       "      <td>5.000</td>\n",
       "      <td>4.686</td>\n",
       "      <td>4.620</td>\n",
       "      <td>5.000</td>\n",
       "    </tr>\n",
       "    <tr>\n",
       "      <th>2019-02-01</th>\n",
       "      <td>5.000</td>\n",
       "      <td>5.000</td>\n",
       "      <td>4.475</td>\n",
       "      <td>5.000</td>\n",
       "      <td>5.000</td>\n",
       "      <td>2.242</td>\n",
       "    </tr>\n",
       "  </tbody>\n",
       "</table>\n",
       "</div>"
      ],
      "text/plain": [
       "Attributes Adj Close  Close   High    Low   Open Volume\n",
       "Symbols           GE     GE     GE     GE     GE     GE\n",
       "Date                                                   \n",
       "2019-01-02     1.000  1.000  1.000  1.000  1.000  1.825\n",
       "2019-01-03     1.019  1.019  1.031  1.580  1.818  1.732\n",
       "2019-01-04     1.336  1.336  1.124  1.894  2.066  1.691\n",
       "2019-01-07     2.290  2.290  1.942  2.380  2.591  2.554\n",
       "2019-01-08     1.953  1.953  2.328  2.741  3.117  2.080\n",
       "2019-01-09     1.841  1.841  1.896  2.208  2.547  1.636\n",
       "2019-01-10     2.664  2.664  2.189  2.694  2.518  1.579\n",
       "2019-01-11     2.664  2.664  2.189  3.055  3.058  1.120\n",
       "2019-01-14     2.589  2.589  2.266  3.118  2.971  1.135\n",
       "2019-01-15     2.271  2.271  2.158  3.024  3.117  1.314\n",
       "2019-01-16     2.738  2.738  2.266  2.961  2.825  1.172\n",
       "2019-01-17     3.037  3.037  2.560  3.102  3.102  1.484\n",
       "2019-01-18     2.888  2.888  2.653  3.541  3.584  1.295\n",
       "2019-01-22     2.140  2.140  2.251  2.804  3.219  1.518\n",
       "2019-01-23     2.271  2.271  2.019  2.882  2.796  1.000\n",
       "2019-01-24     2.364  2.364  2.220  2.882  2.708  1.260\n",
       "2019-01-25     3.075  3.075  2.591  3.243  3.029  1.578\n",
       "2019-01-28     2.645  2.645  2.266  3.102  3.219  1.279\n",
       "2019-01-29     2.589  2.589  2.467  2.945  3.102  1.609\n",
       "2019-01-30     2.963  2.963  2.699  3.306  3.219  1.203\n",
       "2019-01-31     4.944  4.944  5.000  4.686  4.620  5.000\n",
       "2019-02-01     5.000  5.000  4.475  5.000  5.000  2.242"
      ]
     },
     "execution_count": 37,
     "metadata": {},
     "output_type": "execute_result"
    }
   ],
   "source": [
    "from sklearn.preprocessing import MinMaxScaler\n",
    "scaler = MinMaxScaler(feature_range=(1,5))\n",
    "pd.DataFrame(scaler.fit_transform(data_web),columns = data_web.columns,index=data_web.index)"
   ]
  },
  {
   "cell_type": "markdown",
   "metadata": {},
   "source": [
    "Standard Normal Scaler\n",
    "Uniform distirtibution\n"
   ]
  },
  {
   "cell_type": "code",
   "execution_count": 71,
   "metadata": {},
   "outputs": [],
   "source": [
    "Y= pd.DataFrame(np.random.randint(-50,-25,10000))"
   ]
  },
  {
   "cell_type": "code",
   "execution_count": 72,
   "metadata": {},
   "outputs": [
    {
     "data": {
      "image/png": "[encoded data removed]",
      "text/plain": [
       "<Figure size 432x288 with 1 Axes>"
      ]
     },
     "metadata": {
      "needs_background": "light"
     },
     "output_type": "display_data"
    }
   ],
   "source": [
    "Y.hist(bins=100);"
   ]
  },
  {
   "cell_type": "code",
   "execution_count": 73,
   "metadata": {},
   "outputs": [
    {
     "data": {
      "text/plain": [
       "array([[<matplotlib.axes._subplots.AxesSubplot object at 0x7f2d0ba09310>]],\n",
       "      dtype=object)"
      ]
     },
     "execution_count": 73,
     "metadata": {},
     "output_type": "execute_result"
    },
    {
     "data": {
      "image/png": "[encoded data removed]",
      "text/plain": [
       "<Figure size 432x288 with 1 Axes>"
      ]
     },
     "metadata": {
      "needs_background": "light"
     },
     "output_type": "display_data"
    }
   ],
   "source": [
    "scaler_uniform = StandardScaler().fit(Y)\n",
    "standard_Y = pd.DataFrame(scaler_uniform.fit_transform(Y))\n",
    "standard_Y.hist(bins=100)"
   ]
  },
  {
   "cell_type": "markdown",
   "metadata": {},
   "source": [
    "Normal distribution"
   ]
  },
  {
   "cell_type": "code",
   "execution_count": null,
   "metadata": {},
   "outputs": [],
   "source": []
  },
  {
   "cell_type": "code",
   "execution_count": 56,
   "metadata": {},
   "outputs": [],
   "source": [
    "X = pd.DataFrame(np.random.normal(10, 2, size=10000))"
   ]
  },
  {
   "cell_type": "code",
   "execution_count": 57,
   "metadata": {},
   "outputs": [
    {
     "data": {
      "image/png": "[encoded data removed]",
      "text/plain": [
       "<Figure size 432x288 with 1 Axes>"
      ]
     },
     "metadata": {
      "needs_background": "light"
     },
     "output_type": "display_data"
    }
   ],
   "source": [
    "X.hist(bins=1000);"
   ]
  },
  {
   "cell_type": "code",
   "execution_count": 59,
   "metadata": {},
   "outputs": [
    {
     "data": {
      "text/html": [
       "<div>\n",
       "<style scoped>\n",
       "    .dataframe tbody tr th:only-of-type {\n",
       "        vertical-align: middle;\n",
       "    }\n",
       "\n",
       "    .dataframe tbody tr th {\n",
       "        vertical-align: top;\n",
       "    }\n",
       "\n",
       "    .dataframe thead th {\n",
       "        text-align: right;\n",
       "    }\n",
       "</style>\n",
       "<table border=\"1\" class=\"dataframe\">\n",
       "  <thead>\n",
       "    <tr style=\"text-align: right;\">\n",
       "      <th></th>\n",
       "      <th>0</th>\n",
       "    </tr>\n",
       "  </thead>\n",
       "  <tbody>\n",
       "    <tr>\n",
       "      <th>count</th>\n",
       "      <td>10000.000</td>\n",
       "    </tr>\n",
       "    <tr>\n",
       "      <th>mean</th>\n",
       "      <td>9.996</td>\n",
       "    </tr>\n",
       "    <tr>\n",
       "      <th>std</th>\n",
       "      <td>2.026</td>\n",
       "    </tr>\n",
       "    <tr>\n",
       "      <th>min</th>\n",
       "      <td>2.982</td>\n",
       "    </tr>\n",
       "    <tr>\n",
       "      <th>25%</th>\n",
       "      <td>8.648</td>\n",
       "    </tr>\n",
       "    <tr>\n",
       "      <th>50%</th>\n",
       "      <td>10.002</td>\n",
       "    </tr>\n",
       "    <tr>\n",
       "      <th>75%</th>\n",
       "      <td>11.348</td>\n",
       "    </tr>\n",
       "    <tr>\n",
       "      <th>max</th>\n",
       "      <td>17.835</td>\n",
       "    </tr>\n",
       "  </tbody>\n",
       "</table>\n",
       "</div>"
      ],
      "text/plain": [
       "               0\n",
       "count  10000.000\n",
       "mean       9.996\n",
       "std        2.026\n",
       "min        2.982\n",
       "25%        8.648\n",
       "50%       10.002\n",
       "75%       11.348\n",
       "max       17.835"
      ]
     },
     "execution_count": 59,
     "metadata": {},
     "output_type": "execute_result"
    }
   ],
   "source": [
    "X.describe()"
   ]
  },
  {
   "cell_type": "code",
   "execution_count": 63,
   "metadata": {},
   "outputs": [
    {
     "data": {
      "image/png": "[encoded data removed]",
      "text/plain": [
       "<Figure size 432x288 with 1 Axes>"
      ]
     },
     "metadata": {
      "needs_background": "light"
     },
     "output_type": "display_data"
    }
   ],
   "source": [
    "scaler = StandardScaler().fit(X)\n",
    "standradised_X = pd.DataFrame(scaler.fit_transform(X))\n",
    "standradised_X.hist(bins=1000);"
   ]
  },
  {
   "cell_type": "markdown",
   "metadata": {},
   "source": [
    "Normalizer scaler"
   ]
  },
  {
   "cell_type": "code",
   "execution_count": 80,
   "metadata": {},
   "outputs": [
    {
     "ename": "AttributeError",
     "evalue": "'DataFrame' object has no attribute 'value_counts'",
     "output_type": "error",
     "traceback": [
      "\u001b[0;31m---------------------------------------------------------------------------\u001b[0m",
      "\u001b[0;31mAttributeError\u001b[0m                            Traceback (most recent call last)",
      "\u001b[0;32m<ipython-input-80-ecc8583ef7df>\u001b[0m in \u001b[0;36m<module>\u001b[0;34m\u001b[0m\n\u001b[1;32m      1\u001b[0m \u001b[0mnormalizer\u001b[0m \u001b[0;34m=\u001b[0m \u001b[0mNormalizer\u001b[0m\u001b[0;34m(\u001b[0m\u001b[0;34m)\u001b[0m\u001b[0;34m.\u001b[0m\u001b[0mfit\u001b[0m\u001b[0;34m(\u001b[0m\u001b[0mX\u001b[0m\u001b[0;34m)\u001b[0m\u001b[0;34m\u001b[0m\u001b[0;34m\u001b[0m\u001b[0m\n\u001b[1;32m      2\u001b[0m \u001b[0mnormalized_X\u001b[0m \u001b[0;34m=\u001b[0m \u001b[0mpd\u001b[0m\u001b[0;34m.\u001b[0m\u001b[0mDataFrame\u001b[0m\u001b[0;34m(\u001b[0m\u001b[0mnormalizer\u001b[0m\u001b[0;34m.\u001b[0m\u001b[0mfit_transform\u001b[0m\u001b[0;34m(\u001b[0m\u001b[0mX\u001b[0m\u001b[0;34m)\u001b[0m\u001b[0;34m)\u001b[0m\u001b[0;34m\u001b[0m\u001b[0;34m\u001b[0m\u001b[0m\n\u001b[0;32m----> 3\u001b[0;31m \u001b[0mpd\u001b[0m\u001b[0;34m.\u001b[0m\u001b[0mDataFrame\u001b[0m\u001b[0;34m(\u001b[0m\u001b[0mnormalized_X\u001b[0m\u001b[0;34m)\u001b[0m\u001b[0;34m.\u001b[0m\u001b[0mvalue_counts\u001b[0m\u001b[0;34m(\u001b[0m\u001b[0;34m)\u001b[0m\u001b[0;34m\u001b[0m\u001b[0;34m\u001b[0m\u001b[0m\n\u001b[0m",
      "\u001b[0;32m/opt/conda/lib/python3.7/site-packages/pandas/core/generic.py\u001b[0m in \u001b[0;36m__getattr__\u001b[0;34m(self, name)\u001b[0m\n\u001b[1;32m   5272\u001b[0m             \u001b[0;32mif\u001b[0m \u001b[0mself\u001b[0m\u001b[0;34m.\u001b[0m\u001b[0m_info_axis\u001b[0m\u001b[0;34m.\u001b[0m\u001b[0m_can_hold_identifiers_and_holds_name\u001b[0m\u001b[0;34m(\u001b[0m\u001b[0mname\u001b[0m\u001b[0;34m)\u001b[0m\u001b[0;34m:\u001b[0m\u001b[0;34m\u001b[0m\u001b[0;34m\u001b[0m\u001b[0m\n\u001b[1;32m   5273\u001b[0m                 \u001b[0;32mreturn\u001b[0m \u001b[0mself\u001b[0m\u001b[0;34m[\u001b[0m\u001b[0mname\u001b[0m\u001b[0;34m]\u001b[0m\u001b[0;34m\u001b[0m\u001b[0;34m\u001b[0m\u001b[0m\n\u001b[0;32m-> 5274\u001b[0;31m             \u001b[0;32mreturn\u001b[0m \u001b[0mobject\u001b[0m\u001b[0;34m.\u001b[0m\u001b[0m__getattribute__\u001b[0m\u001b[0;34m(\u001b[0m\u001b[0mself\u001b[0m\u001b[0;34m,\u001b[0m \u001b[0mname\u001b[0m\u001b[0;34m)\u001b[0m\u001b[0;34m\u001b[0m\u001b[0;34m\u001b[0m\u001b[0m\n\u001b[0m\u001b[1;32m   5275\u001b[0m \u001b[0;34m\u001b[0m\u001b[0m\n\u001b[1;32m   5276\u001b[0m     \u001b[0;32mdef\u001b[0m \u001b[0m__setattr__\u001b[0m\u001b[0;34m(\u001b[0m\u001b[0mself\u001b[0m\u001b[0;34m,\u001b[0m \u001b[0mname\u001b[0m\u001b[0;34m:\u001b[0m \u001b[0mstr\u001b[0m\u001b[0;34m,\u001b[0m \u001b[0mvalue\u001b[0m\u001b[0;34m)\u001b[0m \u001b[0;34m->\u001b[0m \u001b[0;32mNone\u001b[0m\u001b[0;34m:\u001b[0m\u001b[0;34m\u001b[0m\u001b[0;34m\u001b[0m\u001b[0m\n",
      "\u001b[0;31mAttributeError\u001b[0m: 'DataFrame' object has no attribute 'value_counts'"
     ]
    }
   ],
   "source": [
    "normalizer = Normalizer().fit(X)\n",
    "normalized_X = pd.DataFrame(normalizer.fit_transform(X))\n",
    "pd.DataFrame(normalized_X).value_counts()"
   ]
  },
  {
   "cell_type": "code",
   "execution_count": 81,
   "metadata": {},
   "outputs": [
    {
     "data": {
      "text/plain": [
       "-1.0    8143\n",
       " 1.0    1680\n",
       " 0.0     177\n",
       "Name: 0, dtype: int64"
      ]
     },
     "execution_count": 81,
     "metadata": {},
     "output_type": "execute_result"
    }
   ],
   "source": [
    "normalized_X[0].value_counts()"
   ]
  },
  {
   "cell_type": "code",
   "execution_count": 82,
   "metadata": {},
   "outputs": [
    {
     "data": {
      "text/plain": [
       "0    1680\n",
       "dtype: int64"
      ]
     },
     "execution_count": 82,
     "metadata": {},
     "output_type": "execute_result"
    }
   ],
   "source": [
    "X[X[0]> 0].count()"
   ]
  },
  {
   "cell_type": "code",
   "execution_count": 91,
   "metadata": {},
   "outputs": [],
   "source": [
    "Z =pd.DataFrame([{\"x\": 0,\"y\":100},\n",
    "                 {\"x\": 0,\"y\":-10},\n",
    "                 {\"x\": 0,\"y\":0},\n",
    "                 {\"x\": 0,\"y\":0},\n",
    "                 {\"x\": 70,\"y\":50},\n",
    "                 {\"x\": 70,\"y\":-50}\n",
    "                 ])"
   ]
  },
  {
   "cell_type": "code",
   "execution_count": 92,
   "metadata": {},
   "outputs": [
    {
     "data": {
      "text/html": [
       "<div>\n",
       "<style scoped>\n",
       "    .dataframe tbody tr th:only-of-type {\n",
       "        vertical-align: middle;\n",
       "    }\n",
       "\n",
       "    .dataframe tbody tr th {\n",
       "        vertical-align: top;\n",
       "    }\n",
       "\n",
       "    .dataframe thead th {\n",
       "        text-align: right;\n",
       "    }\n",
       "</style>\n",
       "<table border=\"1\" class=\"dataframe\">\n",
       "  <thead>\n",
       "    <tr style=\"text-align: right;\">\n",
       "      <th></th>\n",
       "      <th>0</th>\n",
       "      <th>1</th>\n",
       "    </tr>\n",
       "  </thead>\n",
       "  <tbody>\n",
       "    <tr>\n",
       "      <th>0</th>\n",
       "      <td>0.000</td>\n",
       "      <td>1.000</td>\n",
       "    </tr>\n",
       "    <tr>\n",
       "      <th>1</th>\n",
       "      <td>0.000</td>\n",
       "      <td>-1.000</td>\n",
       "    </tr>\n",
       "    <tr>\n",
       "      <th>2</th>\n",
       "      <td>0.000</td>\n",
       "      <td>0.000</td>\n",
       "    </tr>\n",
       "    <tr>\n",
       "      <th>3</th>\n",
       "      <td>0.000</td>\n",
       "      <td>0.000</td>\n",
       "    </tr>\n",
       "    <tr>\n",
       "      <th>4</th>\n",
       "      <td>0.814</td>\n",
       "      <td>0.581</td>\n",
       "    </tr>\n",
       "    <tr>\n",
       "      <th>5</th>\n",
       "      <td>0.814</td>\n",
       "      <td>-0.581</td>\n",
       "    </tr>\n",
       "  </tbody>\n",
       "</table>\n",
       "</div>"
      ],
      "text/plain": [
       "       0      1\n",
       "0  0.000  1.000\n",
       "1  0.000 -1.000\n",
       "2  0.000  0.000\n",
       "3  0.000  0.000\n",
       "4  0.814  0.581\n",
       "5  0.814 -0.581"
      ]
     },
     "execution_count": 92,
     "metadata": {},
     "output_type": "execute_result"
    }
   ],
   "source": [
    "normalizer_Z = Normalizer().fit(Z)\n",
    "normalizer_Z = pd.DataFrame(normalizer_Z.fit_transform(Z))\n",
    "normalizer_Z"
   ]
  },
  {
   "cell_type": "code",
   "execution_count": null,
   "metadata": {},
   "outputs": [],
   "source": []
  }
 ],
 "metadata": {
  "instance_type": "ml.t3.medium",
  "kernelspec": {
   "display_name": "Python 3 (Data Science)",
   "language": "python",
   "name": "python3__SAGEMAKER_INTERNAL__arn:aws:sagemaker:us-east-1:081325390199:image/datascience-1.0"
  },
  "language_info": {
   "codemirror_mode": {
    "name": "ipython",
    "version": 3
   },
   "file_extension": ".py",
   "mimetype": "text/x-python",
   "name": "python",
   "nbconvert_exporter": "python",
   "pygments_lexer": "ipython3",
   "version": "3.7.10"
  }
 },
 "nbformat": 4,
 "nbformat_minor": 4
}
