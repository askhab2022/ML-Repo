{
 "cells": [
  {
   "cell_type": "code",
   "execution_count": 1,
   "metadata": {},
   "outputs": [],
   "source": [
    "import pandas as pd\n",
    "import seaborn as sns\n",
    "import numpy as np"
   ]
  },
  {
   "cell_type": "code",
   "execution_count": 2,
   "metadata": {},
   "outputs": [],
   "source": [
    "def read_csv(path, nrows=None):\n",
    "    \"\"\"Reads dataset from CSV file, with optional number of rows\"\"\"\n",
    "    \n",
    "    df = pd.read_csv(path, nrows=nrows)\n",
    "    df['click_time'] = pd.to_datetime(df['click_time'])\n",
    "    df.set_index('click_time', inplace=True)\n",
    "    df.sort_index(inplace=True)\n",
    "    \n",
    "    return df\n",
    "\n"
   ]
  },
  {
   "cell_type": "code",
   "execution_count": 3,
   "metadata": {},
   "outputs": [],
   "source": [
    "#Training data set\n",
    "dataset_train = read_csv(\"data/train_sample.csv\")\n",
    "\n",
    "# Benchmark test\n",
    "dataset_test = read_csv(\"data/train.csv\", nrows = 10000)\n",
    "\n",
    "#Larger test,\n",
    "\n",
    "dataset_test_all = read_csv(\"data/test.csv\")\n"
   ]
  },
  {
   "cell_type": "markdown",
   "metadata": {},
   "source": [
    "Data Exploration"
   ]
  },
  {
   "cell_type": "code",
   "execution_count": 4,
   "metadata": {},
   "outputs": [
    {
     "data": {
      "text/html": [
       "<div>\n",
       "<style scoped>\n",
       "    .dataframe tbody tr th:only-of-type {\n",
       "        vertical-align: middle;\n",
       "    }\n",
       "\n",
       "    .dataframe tbody tr th {\n",
       "        vertical-align: top;\n",
       "    }\n",
       "\n",
       "    .dataframe thead th {\n",
       "        text-align: right;\n",
       "    }\n",
       "</style>\n",
       "<table border=\"1\" class=\"dataframe\">\n",
       "  <thead>\n",
       "    <tr style=\"text-align: right;\">\n",
       "      <th></th>\n",
       "      <th>ip</th>\n",
       "      <th>app</th>\n",
       "      <th>device</th>\n",
       "      <th>os</th>\n",
       "      <th>channel</th>\n",
       "      <th>is_attributed</th>\n",
       "    </tr>\n",
       "  </thead>\n",
       "  <tbody>\n",
       "    <tr>\n",
       "      <th>count</th>\n",
       "      <td>100000.000000</td>\n",
       "      <td>100000.00000</td>\n",
       "      <td>100000.000000</td>\n",
       "      <td>100000.000000</td>\n",
       "      <td>100000.000000</td>\n",
       "      <td>100000.000000</td>\n",
       "    </tr>\n",
       "    <tr>\n",
       "      <th>mean</th>\n",
       "      <td>91255.879670</td>\n",
       "      <td>12.04788</td>\n",
       "      <td>21.771250</td>\n",
       "      <td>22.818280</td>\n",
       "      <td>268.832460</td>\n",
       "      <td>0.002270</td>\n",
       "    </tr>\n",
       "    <tr>\n",
       "      <th>std</th>\n",
       "      <td>69835.553661</td>\n",
       "      <td>14.94150</td>\n",
       "      <td>259.667767</td>\n",
       "      <td>55.943136</td>\n",
       "      <td>129.724248</td>\n",
       "      <td>0.047591</td>\n",
       "    </tr>\n",
       "    <tr>\n",
       "      <th>min</th>\n",
       "      <td>9.000000</td>\n",
       "      <td>1.00000</td>\n",
       "      <td>0.000000</td>\n",
       "      <td>0.000000</td>\n",
       "      <td>3.000000</td>\n",
       "      <td>0.000000</td>\n",
       "    </tr>\n",
       "    <tr>\n",
       "      <th>25%</th>\n",
       "      <td>40552.000000</td>\n",
       "      <td>3.00000</td>\n",
       "      <td>1.000000</td>\n",
       "      <td>13.000000</td>\n",
       "      <td>145.000000</td>\n",
       "      <td>0.000000</td>\n",
       "    </tr>\n",
       "    <tr>\n",
       "      <th>50%</th>\n",
       "      <td>79827.000000</td>\n",
       "      <td>12.00000</td>\n",
       "      <td>1.000000</td>\n",
       "      <td>18.000000</td>\n",
       "      <td>258.000000</td>\n",
       "      <td>0.000000</td>\n",
       "    </tr>\n",
       "    <tr>\n",
       "      <th>75%</th>\n",
       "      <td>118252.000000</td>\n",
       "      <td>15.00000</td>\n",
       "      <td>1.000000</td>\n",
       "      <td>19.000000</td>\n",
       "      <td>379.000000</td>\n",
       "      <td>0.000000</td>\n",
       "    </tr>\n",
       "    <tr>\n",
       "      <th>max</th>\n",
       "      <td>364757.000000</td>\n",
       "      <td>551.00000</td>\n",
       "      <td>3867.000000</td>\n",
       "      <td>866.000000</td>\n",
       "      <td>498.000000</td>\n",
       "      <td>1.000000</td>\n",
       "    </tr>\n",
       "  </tbody>\n",
       "</table>\n",
       "</div>"
      ],
      "text/plain": [
       "                  ip           app         device             os  \\\n",
       "count  100000.000000  100000.00000  100000.000000  100000.000000   \n",
       "mean    91255.879670      12.04788      21.771250      22.818280   \n",
       "std     69835.553661      14.94150     259.667767      55.943136   \n",
       "min         9.000000       1.00000       0.000000       0.000000   \n",
       "25%     40552.000000       3.00000       1.000000      13.000000   \n",
       "50%     79827.000000      12.00000       1.000000      18.000000   \n",
       "75%    118252.000000      15.00000       1.000000      19.000000   \n",
       "max    364757.000000     551.00000    3867.000000     866.000000   \n",
       "\n",
       "             channel  is_attributed  \n",
       "count  100000.000000  100000.000000  \n",
       "mean      268.832460       0.002270  \n",
       "std       129.724248       0.047591  \n",
       "min         3.000000       0.000000  \n",
       "25%       145.000000       0.000000  \n",
       "50%       258.000000       0.000000  \n",
       "75%       379.000000       0.000000  \n",
       "max       498.000000       1.000000  "
      ]
     },
     "execution_count": 4,
     "metadata": {},
     "output_type": "execute_result"
    }
   ],
   "source": [
    "dataset_train.describe()"
   ]
  },
  {
   "cell_type": "code",
   "execution_count": 5,
   "metadata": {},
   "outputs": [
    {
     "data": {
      "text/html": [
       "<div>\n",
       "<style scoped>\n",
       "    .dataframe tbody tr th:only-of-type {\n",
       "        vertical-align: middle;\n",
       "    }\n",
       "\n",
       "    .dataframe tbody tr th {\n",
       "        vertical-align: top;\n",
       "    }\n",
       "\n",
       "    .dataframe thead th {\n",
       "        text-align: right;\n",
       "    }\n",
       "</style>\n",
       "<table border=\"1\" class=\"dataframe\">\n",
       "  <thead>\n",
       "    <tr style=\"text-align: right;\">\n",
       "      <th></th>\n",
       "      <th>atribute</th>\n",
       "      <th>unique_values</th>\n",
       "    </tr>\n",
       "  </thead>\n",
       "  <tbody>\n",
       "    <tr>\n",
       "      <th>0</th>\n",
       "      <td>ip</td>\n",
       "      <td>34857</td>\n",
       "    </tr>\n",
       "    <tr>\n",
       "      <th>1</th>\n",
       "      <td>app</td>\n",
       "      <td>161</td>\n",
       "    </tr>\n",
       "    <tr>\n",
       "      <th>2</th>\n",
       "      <td>device</td>\n",
       "      <td>100</td>\n",
       "    </tr>\n",
       "    <tr>\n",
       "      <th>3</th>\n",
       "      <td>os</td>\n",
       "      <td>130</td>\n",
       "    </tr>\n",
       "    <tr>\n",
       "      <th>4</th>\n",
       "      <td>channel</td>\n",
       "      <td>161</td>\n",
       "    </tr>\n",
       "    <tr>\n",
       "      <th>5</th>\n",
       "      <td>attributed_time</td>\n",
       "      <td>227</td>\n",
       "    </tr>\n",
       "    <tr>\n",
       "      <th>6</th>\n",
       "      <td>is_attributed</td>\n",
       "      <td>2</td>\n",
       "    </tr>\n",
       "  </tbody>\n",
       "</table>\n",
       "</div>"
      ],
      "text/plain": [
       "          atribute  unique_values\n",
       "0               ip          34857\n",
       "1              app            161\n",
       "2           device            100\n",
       "3               os            130\n",
       "4          channel            161\n",
       "5  attributed_time            227\n",
       "6    is_attributed              2"
      ]
     },
     "execution_count": 5,
     "metadata": {},
     "output_type": "execute_result"
    }
   ],
   "source": [
    "df = dataset_train.nunique()\n",
    "pd.DataFrame({\"atribute\": df.index,\"unique_values\": df.values})\n"
   ]
  },
  {
   "cell_type": "code",
   "execution_count": 6,
   "metadata": {},
   "outputs": [
    {
     "data": {
      "image/png": "[encoded data removed]",
      "text/plain": [
       "<Figure size 720x720 with 6 Axes>"
      ]
     },
     "metadata": {
      "needs_background": "light"
     },
     "output_type": "display_data"
    }
   ],
   "source": [
    "dataset_train.hist(bins=20, figsize=(10,10));"
   ]
  },
  {
   "cell_type": "code",
   "execution_count": 7,
   "metadata": {},
   "outputs": [
    {
     "data": {
      "text/html": [
       "<style  type=\"text/css\" >\n",
       "    #T_968e2fae_844e_11ec_b411_e72d94479062row0_col0 {\n",
       "            background-color:  #023858;\n",
       "            color:  #f1f1f1;\n",
       "        }    #T_968e2fae_844e_11ec_b411_e72d94479062row0_col1 {\n",
       "            background-color:  #faf2f8;\n",
       "            color:  #000000;\n",
       "        }    #T_968e2fae_844e_11ec_b411_e72d94479062row0_col2 {\n",
       "            background-color:  #faf3f9;\n",
       "            color:  #000000;\n",
       "        }    #T_968e2fae_844e_11ec_b411_e72d94479062row0_col3 {\n",
       "            background-color:  #faf3f9;\n",
       "            color:  #000000;\n",
       "        }    #T_968e2fae_844e_11ec_b411_e72d94479062row0_col4 {\n",
       "            background-color:  #f9f2f8;\n",
       "            color:  #000000;\n",
       "        }    #T_968e2fae_844e_11ec_b411_e72d94479062row0_col5 {\n",
       "            background-color:  #f4edf6;\n",
       "            color:  #000000;\n",
       "        }    #T_968e2fae_844e_11ec_b411_e72d94479062row1_col0 {\n",
       "            background-color:  #fdf5fa;\n",
       "            color:  #000000;\n",
       "        }    #T_968e2fae_844e_11ec_b411_e72d94479062row1_col1 {\n",
       "            background-color:  #023858;\n",
       "            color:  #f1f1f1;\n",
       "        }    #T_968e2fae_844e_11ec_b411_e72d94479062row1_col2 {\n",
       "            background-color:  #c8cde4;\n",
       "            color:  #000000;\n",
       "        }    #T_968e2fae_844e_11ec_b411_e72d94479062row1_col3 {\n",
       "            background-color:  #c9cee4;\n",
       "            color:  #000000;\n",
       "        }    #T_968e2fae_844e_11ec_b411_e72d94479062row1_col4 {\n",
       "            background-color:  #fef6fb;\n",
       "            color:  #000000;\n",
       "        }    #T_968e2fae_844e_11ec_b411_e72d94479062row1_col5 {\n",
       "            background-color:  #f2ecf5;\n",
       "            color:  #000000;\n",
       "        }    #T_968e2fae_844e_11ec_b411_e72d94479062row2_col0 {\n",
       "            background-color:  #fff7fb;\n",
       "            color:  #000000;\n",
       "        }    #T_968e2fae_844e_11ec_b411_e72d94479062row2_col1 {\n",
       "            background-color:  #cacee5;\n",
       "            color:  #000000;\n",
       "        }    #T_968e2fae_844e_11ec_b411_e72d94479062row2_col2 {\n",
       "            background-color:  #023858;\n",
       "            color:  #f1f1f1;\n",
       "        }    #T_968e2fae_844e_11ec_b411_e72d94479062row2_col3 {\n",
       "            background-color:  #034b76;\n",
       "            color:  #f1f1f1;\n",
       "        }    #T_968e2fae_844e_11ec_b411_e72d94479062row2_col4 {\n",
       "            background-color:  #fff7fb;\n",
       "            color:  #000000;\n",
       "        }    #T_968e2fae_844e_11ec_b411_e72d94479062row2_col5 {\n",
       "            background-color:  #fcf4fa;\n",
       "            color:  #000000;\n",
       "        }    #T_968e2fae_844e_11ec_b411_e72d94479062row3_col0 {\n",
       "            background-color:  #fff7fb;\n",
       "            color:  #000000;\n",
       "        }    #T_968e2fae_844e_11ec_b411_e72d94479062row3_col1 {\n",
       "            background-color:  #cacee5;\n",
       "            color:  #000000;\n",
       "        }    #T_968e2fae_844e_11ec_b411_e72d94479062row3_col2 {\n",
       "            background-color:  #034b76;\n",
       "            color:  #f1f1f1;\n",
       "        }    #T_968e2fae_844e_11ec_b411_e72d94479062row3_col3 {\n",
       "            background-color:  #023858;\n",
       "            color:  #f1f1f1;\n",
       "        }    #T_968e2fae_844e_11ec_b411_e72d94479062row3_col4 {\n",
       "            background-color:  #fff7fb;\n",
       "            color:  #000000;\n",
       "        }    #T_968e2fae_844e_11ec_b411_e72d94479062row3_col5 {\n",
       "            background-color:  #fbf3f9;\n",
       "            color:  #000000;\n",
       "        }    #T_968e2fae_844e_11ec_b411_e72d94479062row4_col0 {\n",
       "            background-color:  #fef6fa;\n",
       "            color:  #000000;\n",
       "        }    #T_968e2fae_844e_11ec_b411_e72d94479062row4_col1 {\n",
       "            background-color:  #fff7fb;\n",
       "            color:  #000000;\n",
       "        }    #T_968e2fae_844e_11ec_b411_e72d94479062row4_col2 {\n",
       "            background-color:  #fff7fb;\n",
       "            color:  #000000;\n",
       "        }    #T_968e2fae_844e_11ec_b411_e72d94479062row4_col3 {\n",
       "            background-color:  #fff7fb;\n",
       "            color:  #000000;\n",
       "        }    #T_968e2fae_844e_11ec_b411_e72d94479062row4_col4 {\n",
       "            background-color:  #023858;\n",
       "            color:  #f1f1f1;\n",
       "        }    #T_968e2fae_844e_11ec_b411_e72d94479062row4_col5 {\n",
       "            background-color:  #fff7fb;\n",
       "            color:  #000000;\n",
       "        }    #T_968e2fae_844e_11ec_b411_e72d94479062row5_col0 {\n",
       "            background-color:  #f7f0f7;\n",
       "            color:  #000000;\n",
       "        }    #T_968e2fae_844e_11ec_b411_e72d94479062row5_col1 {\n",
       "            background-color:  #f1ebf5;\n",
       "            color:  #000000;\n",
       "        }    #T_968e2fae_844e_11ec_b411_e72d94479062row5_col2 {\n",
       "            background-color:  #faf3f9;\n",
       "            color:  #000000;\n",
       "        }    #T_968e2fae_844e_11ec_b411_e72d94479062row5_col3 {\n",
       "            background-color:  #faf2f8;\n",
       "            color:  #000000;\n",
       "        }    #T_968e2fae_844e_11ec_b411_e72d94479062row5_col4 {\n",
       "            background-color:  #fef6fa;\n",
       "            color:  #000000;\n",
       "        }    #T_968e2fae_844e_11ec_b411_e72d94479062row5_col5 {\n",
       "            background-color:  #023858;\n",
       "            color:  #f1f1f1;\n",
       "        }</style><table id=\"T_968e2fae_844e_11ec_b411_e72d94479062\" ><thead>    <tr>        <th class=\"blank level0\" ></th>        <th class=\"col_heading level0 col0\" >ip</th>        <th class=\"col_heading level0 col1\" >app</th>        <th class=\"col_heading level0 col2\" >device</th>        <th class=\"col_heading level0 col3\" >os</th>        <th class=\"col_heading level0 col4\" >channel</th>        <th class=\"col_heading level0 col5\" >is_attributed</th>    </tr></thead><tbody>\n",
       "                <tr>\n",
       "                        <th id=\"T_968e2fae_844e_11ec_b411_e72d94479062level0_row0\" class=\"row_heading level0 row0\" >ip</th>\n",
       "                        <td id=\"T_968e2fae_844e_11ec_b411_e72d94479062row0_col0\" class=\"data row0 col0\" >1.000000</td>\n",
       "                        <td id=\"T_968e2fae_844e_11ec_b411_e72d94479062row0_col1\" class=\"data row0 col1\" >0.010400</td>\n",
       "                        <td id=\"T_968e2fae_844e_11ec_b411_e72d94479062row0_col2\" class=\"data row0 col2\" >-0.001499</td>\n",
       "                        <td id=\"T_968e2fae_844e_11ec_b411_e72d94479062row0_col3\" class=\"data row0 col3\" >-0.000470</td>\n",
       "                        <td id=\"T_968e2fae_844e_11ec_b411_e72d94479062row0_col4\" class=\"data row0 col4\" >0.007563</td>\n",
       "                        <td id=\"T_968e2fae_844e_11ec_b411_e72d94479062row0_col5\" class=\"data row0 col5\" >0.054955</td>\n",
       "            </tr>\n",
       "            <tr>\n",
       "                        <th id=\"T_968e2fae_844e_11ec_b411_e72d94479062level0_row1\" class=\"row_heading level0 row1\" >app</th>\n",
       "                        <td id=\"T_968e2fae_844e_11ec_b411_e72d94479062row1_col0\" class=\"data row1 col0\" >0.010400</td>\n",
       "                        <td id=\"T_968e2fae_844e_11ec_b411_e72d94479062row1_col1\" class=\"data row1 col1\" >1.000000</td>\n",
       "                        <td id=\"T_968e2fae_844e_11ec_b411_e72d94479062row1_col2\" class=\"data row1 col2\" >0.248376</td>\n",
       "                        <td id=\"T_968e2fae_844e_11ec_b411_e72d94479062row1_col3\" class=\"data row1 col3\" >0.247160</td>\n",
       "                        <td id=\"T_968e2fae_844e_11ec_b411_e72d94479062row1_col4\" class=\"data row1 col4\" >-0.028238</td>\n",
       "                        <td id=\"T_968e2fae_844e_11ec_b411_e72d94479062row1_col5\" class=\"data row1 col5\" >0.064426</td>\n",
       "            </tr>\n",
       "            <tr>\n",
       "                        <th id=\"T_968e2fae_844e_11ec_b411_e72d94479062level0_row2\" class=\"row_heading level0 row2\" >device</th>\n",
       "                        <td id=\"T_968e2fae_844e_11ec_b411_e72d94479062row2_col0\" class=\"data row2 col0\" >-0.001499</td>\n",
       "                        <td id=\"T_968e2fae_844e_11ec_b411_e72d94479062row2_col1\" class=\"data row2 col1\" >0.248376</td>\n",
       "                        <td id=\"T_968e2fae_844e_11ec_b411_e72d94479062row2_col2\" class=\"data row2 col2\" >1.000000</td>\n",
       "                        <td id=\"T_968e2fae_844e_11ec_b411_e72d94479062row2_col3\" class=\"data row2 col3\" >0.924456</td>\n",
       "                        <td id=\"T_968e2fae_844e_11ec_b411_e72d94479062row2_col4\" class=\"data row2 col4\" >-0.035398</td>\n",
       "                        <td id=\"T_968e2fae_844e_11ec_b411_e72d94479062row2_col5\" class=\"data row2 col5\" >-0.000695</td>\n",
       "            </tr>\n",
       "            <tr>\n",
       "                        <th id=\"T_968e2fae_844e_11ec_b411_e72d94479062level0_row3\" class=\"row_heading level0 row3\" >os</th>\n",
       "                        <td id=\"T_968e2fae_844e_11ec_b411_e72d94479062row3_col0\" class=\"data row3 col0\" >-0.000470</td>\n",
       "                        <td id=\"T_968e2fae_844e_11ec_b411_e72d94479062row3_col1\" class=\"data row3 col1\" >0.247160</td>\n",
       "                        <td id=\"T_968e2fae_844e_11ec_b411_e72d94479062row3_col2\" class=\"data row3 col2\" >0.924456</td>\n",
       "                        <td id=\"T_968e2fae_844e_11ec_b411_e72d94479062row3_col3\" class=\"data row3 col3\" >1.000000</td>\n",
       "                        <td id=\"T_968e2fae_844e_11ec_b411_e72d94479062row3_col4\" class=\"data row3 col4\" >-0.033175</td>\n",
       "                        <td id=\"T_968e2fae_844e_11ec_b411_e72d94479062row3_col5\" class=\"data row3 col5\" >0.006183</td>\n",
       "            </tr>\n",
       "            <tr>\n",
       "                        <th id=\"T_968e2fae_844e_11ec_b411_e72d94479062level0_row4\" class=\"row_heading level0 row4\" >channel</th>\n",
       "                        <td id=\"T_968e2fae_844e_11ec_b411_e72d94479062row4_col0\" class=\"data row4 col0\" >0.007563</td>\n",
       "                        <td id=\"T_968e2fae_844e_11ec_b411_e72d94479062row4_col1\" class=\"data row4 col1\" >-0.028238</td>\n",
       "                        <td id=\"T_968e2fae_844e_11ec_b411_e72d94479062row4_col2\" class=\"data row4 col2\" >-0.035398</td>\n",
       "                        <td id=\"T_968e2fae_844e_11ec_b411_e72d94479062row4_col3\" class=\"data row4 col3\" >-0.033175</td>\n",
       "                        <td id=\"T_968e2fae_844e_11ec_b411_e72d94479062row4_col4\" class=\"data row4 col4\" >1.000000</td>\n",
       "                        <td id=\"T_968e2fae_844e_11ec_b411_e72d94479062row4_col5\" class=\"data row4 col5\" >-0.023336</td>\n",
       "            </tr>\n",
       "            <tr>\n",
       "                        <th id=\"T_968e2fae_844e_11ec_b411_e72d94479062level0_row5\" class=\"row_heading level0 row5\" >is_attributed</th>\n",
       "                        <td id=\"T_968e2fae_844e_11ec_b411_e72d94479062row5_col0\" class=\"data row5 col0\" >0.054955</td>\n",
       "                        <td id=\"T_968e2fae_844e_11ec_b411_e72d94479062row5_col1\" class=\"data row5 col1\" >0.064426</td>\n",
       "                        <td id=\"T_968e2fae_844e_11ec_b411_e72d94479062row5_col2\" class=\"data row5 col2\" >-0.000695</td>\n",
       "                        <td id=\"T_968e2fae_844e_11ec_b411_e72d94479062row5_col3\" class=\"data row5 col3\" >0.006183</td>\n",
       "                        <td id=\"T_968e2fae_844e_11ec_b411_e72d94479062row5_col4\" class=\"data row5 col4\" >-0.023336</td>\n",
       "                        <td id=\"T_968e2fae_844e_11ec_b411_e72d94479062row5_col5\" class=\"data row5 col5\" >1.000000</td>\n",
       "            </tr>\n",
       "    </tbody></table>"
      ],
      "text/plain": [
       "<pandas.io.formats.style.Styler at 0x7fe99a27cb90>"
      ]
     },
     "execution_count": 7,
     "metadata": {},
     "output_type": "execute_result"
    }
   ],
   "source": [
    "corr = dataset_train.corr()\n",
    "corr.style.background_gradient()\n"
   ]
  },
  {
   "cell_type": "code",
   "execution_count": 8,
   "metadata": {},
   "outputs": [
    {
     "data": {
      "image/png": "[encoded data removed]",
      "text/plain": [
       "<Figure size 720x720 with 6 Axes>"
      ]
     },
     "metadata": {
      "needs_background": "light"
     },
     "output_type": "display_data"
    }
   ],
   "source": [
    "dataset_train[(dataset_train[\"is_attributed\"]==1)].hist(bins = 20,figsize =(10,10));"
   ]
  },
  {
   "cell_type": "code",
   "execution_count": 9,
   "metadata": {},
   "outputs": [
    {
     "data": {
      "text/html": [
       "<div>\n",
       "<style scoped>\n",
       "    .dataframe tbody tr th:only-of-type {\n",
       "        vertical-align: middle;\n",
       "    }\n",
       "\n",
       "    .dataframe tbody tr th {\n",
       "        vertical-align: top;\n",
       "    }\n",
       "\n",
       "    .dataframe thead th {\n",
       "        text-align: right;\n",
       "    }\n",
       "</style>\n",
       "<table border=\"1\" class=\"dataframe\">\n",
       "  <thead>\n",
       "    <tr style=\"text-align: right;\">\n",
       "      <th></th>\n",
       "      <th>is_attributed</th>\n",
       "    </tr>\n",
       "    <tr>\n",
       "      <th>app</th>\n",
       "      <th></th>\n",
       "    </tr>\n",
       "  </thead>\n",
       "  <tbody>\n",
       "    <tr>\n",
       "      <th>19</th>\n",
       "      <td>70</td>\n",
       "    </tr>\n",
       "    <tr>\n",
       "      <th>35</th>\n",
       "      <td>27</td>\n",
       "    </tr>\n",
       "    <tr>\n",
       "      <th>29</th>\n",
       "      <td>22</td>\n",
       "    </tr>\n",
       "    <tr>\n",
       "      <th>10</th>\n",
       "      <td>18</td>\n",
       "    </tr>\n",
       "    <tr>\n",
       "      <th>5</th>\n",
       "      <td>14</td>\n",
       "    </tr>\n",
       "    <tr>\n",
       "      <th>45</th>\n",
       "      <td>11</td>\n",
       "    </tr>\n",
       "    <tr>\n",
       "      <th>9</th>\n",
       "      <td>8</td>\n",
       "    </tr>\n",
       "    <tr>\n",
       "      <th>72</th>\n",
       "      <td>6</td>\n",
       "    </tr>\n",
       "    <tr>\n",
       "      <th>18</th>\n",
       "      <td>5</td>\n",
       "    </tr>\n",
       "    <tr>\n",
       "      <th>3</th>\n",
       "      <td>4</td>\n",
       "    </tr>\n",
       "  </tbody>\n",
       "</table>\n",
       "</div>"
      ],
      "text/plain": [
       "     is_attributed\n",
       "app               \n",
       "19              70\n",
       "35              27\n",
       "29              22\n",
       "10              18\n",
       "5               14\n",
       "45              11\n",
       "9                8\n",
       "72               6\n",
       "18               5\n",
       "3                4"
      ]
     },
     "execution_count": 9,
     "metadata": {},
     "output_type": "execute_result"
    }
   ],
   "source": [
    "top_apps = dataset_train.groupby([\"app\"])[\"is_attributed\"].agg(is_attributed=\"sum\")\n",
    "top_apps.sort_values(\"is_attributed\",ascending= False).head(10)"
   ]
  },
  {
   "cell_type": "code",
   "execution_count": 10,
   "metadata": {},
   "outputs": [
    {
     "data": {
      "image/png": "[encoded data removed]",
      "text/plain": [
       "<Figure size 1440x360 with 1 Axes>"
      ]
     },
     "metadata": {
      "needs_background": "light"
     },
     "output_type": "display_data"
    }
   ],
   "source": [
    "dataset_train.apply(lambda x: 1 if x[\"is_attributed\"] == 1 else 0,axis=1).plot(figsize=(20,5));"
   ]
  },
  {
   "cell_type": "markdown",
   "metadata": {},
   "source": [
    "Benchmark Models"
   ]
  },
  {
   "cell_type": "code",
   "execution_count": 11,
   "metadata": {},
   "outputs": [],
   "source": [
    "benchmark_const = dataset_test_all[[\"click_id\"]].copy()\n",
    "benchmark_const[\"is_attributed\"] = 0\n",
    "benchmark_const.set_index(\"click_id\",inplace=True)"
   ]
  },
  {
   "cell_type": "code",
   "execution_count": 12,
   "metadata": {},
   "outputs": [
    {
     "data": {
      "text/html": [
       "<div>\n",
       "<style scoped>\n",
       "    .dataframe tbody tr th:only-of-type {\n",
       "        vertical-align: middle;\n",
       "    }\n",
       "\n",
       "    .dataframe tbody tr th {\n",
       "        vertical-align: top;\n",
       "    }\n",
       "\n",
       "    .dataframe thead th {\n",
       "        text-align: right;\n",
       "    }\n",
       "</style>\n",
       "<table border=\"1\" class=\"dataframe\">\n",
       "  <thead>\n",
       "    <tr style=\"text-align: right;\">\n",
       "      <th></th>\n",
       "      <th>is_attributed</th>\n",
       "    </tr>\n",
       "    <tr>\n",
       "      <th>click_id</th>\n",
       "      <th></th>\n",
       "    </tr>\n",
       "  </thead>\n",
       "  <tbody>\n",
       "    <tr>\n",
       "      <th>0</th>\n",
       "      <td>0</td>\n",
       "    </tr>\n",
       "    <tr>\n",
       "      <th>1</th>\n",
       "      <td>0</td>\n",
       "    </tr>\n",
       "    <tr>\n",
       "      <th>2</th>\n",
       "      <td>0</td>\n",
       "    </tr>\n",
       "    <tr>\n",
       "      <th>3</th>\n",
       "      <td>0</td>\n",
       "    </tr>\n",
       "    <tr>\n",
       "      <th>4</th>\n",
       "      <td>0</td>\n",
       "    </tr>\n",
       "    <tr>\n",
       "      <th>...</th>\n",
       "      <td>...</td>\n",
       "    </tr>\n",
       "    <tr>\n",
       "      <th>18790464</th>\n",
       "      <td>0</td>\n",
       "    </tr>\n",
       "    <tr>\n",
       "      <th>18790465</th>\n",
       "      <td>0</td>\n",
       "    </tr>\n",
       "    <tr>\n",
       "      <th>18790467</th>\n",
       "      <td>0</td>\n",
       "    </tr>\n",
       "    <tr>\n",
       "      <th>18790466</th>\n",
       "      <td>0</td>\n",
       "    </tr>\n",
       "    <tr>\n",
       "      <th>18790468</th>\n",
       "      <td>0</td>\n",
       "    </tr>\n",
       "  </tbody>\n",
       "</table>\n",
       "<p>18790469 rows × 1 columns</p>\n",
       "</div>"
      ],
      "text/plain": [
       "          is_attributed\n",
       "click_id               \n",
       "0                     0\n",
       "1                     0\n",
       "2                     0\n",
       "3                     0\n",
       "4                     0\n",
       "...                 ...\n",
       "18790464              0\n",
       "18790465              0\n",
       "18790467              0\n",
       "18790466              0\n",
       "18790468              0\n",
       "\n",
       "[18790469 rows x 1 columns]"
      ]
     },
     "execution_count": 12,
     "metadata": {},
     "output_type": "execute_result"
    }
   ],
   "source": [
    "benchmark_const"
   ]
  },
  {
   "cell_type": "code",
   "execution_count": 13,
   "metadata": {},
   "outputs": [],
   "source": [
    "benchmark_const.to_csv(\"data/benchmark_const.csv\")"
   ]
  },
  {
   "cell_type": "markdown",
   "metadata": {},
   "source": [
    "# Preprocessing\n",
    "* Extract hour of the day\n",
    " * Valid clicks are coming during the day\n",
    "* For each attribute extract duration since last click with that attribute\n",
    " * Fraud might reuse same IP,app or device\n",
    "* Remove attributes: attributed_time, click_time, is_attributed\n",
    " * Not need for the model\n"
   ]
  },
  {
   "cell_type": "code",
   "execution_count": 19,
   "metadata": {},
   "outputs": [],
   "source": [
    "def prepare_dataset(df):\n",
    "    df[\"hour\"] = df.index.hour\n",
    "    df[\"click_time\"] = df.index\n",
    "    \n",
    "    return df.drop(labels =[\"attributed_time\",\"click_time\",\"is_attributed\"],axis=1,errors=\"ignore\")"
   ]
  },
  {
   "cell_type": "code",
   "execution_count": 20,
   "metadata": {},
   "outputs": [],
   "source": [
    "train_X = prepare_dataset(dataset_train)"
   ]
  },
  {
   "cell_type": "code",
   "execution_count": 21,
   "metadata": {},
   "outputs": [
    {
     "data": {
      "text/plain": [
       "DatetimeIndex(['2017-11-06 16:00:00', '2017-11-06 16:00:09',\n",
       "               '2017-11-06 16:00:09', '2017-11-06 16:00:11',\n",
       "               '2017-11-06 16:00:11', '2017-11-06 16:00:13',\n",
       "               '2017-11-06 16:00:19', '2017-11-06 16:00:20',\n",
       "               '2017-11-06 16:00:20', '2017-11-06 16:00:21',\n",
       "               ...\n",
       "               '2017-11-09 15:59:33', '2017-11-09 15:59:34',\n",
       "               '2017-11-09 15:59:36', '2017-11-09 15:59:39',\n",
       "               '2017-11-09 15:59:41', '2017-11-09 15:59:42',\n",
       "               '2017-11-09 15:59:43', '2017-11-09 15:59:44',\n",
       "               '2017-11-09 15:59:46', '2017-11-09 15:59:51'],\n",
       "              dtype='datetime64[ns]', name='click_time', length=100000, freq=None)"
      ]
     },
     "execution_count": 21,
     "metadata": {},
     "output_type": "execute_result"
    }
   ],
   "source": [
    "train_y  = data"
   ]
  },
  {
   "cell_type": "code",
   "execution_count": null,
   "metadata": {},
   "outputs": [],
   "source": []
  }
 ],
 "metadata": {
  "instance_type": "ml.t3.medium",
  "kernelspec": {
   "display_name": "Python 3 (Data Science)",
   "language": "python",
   "name": "python3__SAGEMAKER_INTERNAL__arn:aws:sagemaker:us-east-1:081325390199:image/datascience-1.0"
  },
  "language_info": {
   "codemirror_mode": {
    "name": "ipython",
    "version": 3
   },
   "file_extension": ".py",
   "mimetype": "text/x-python",
   "name": "python",
   "nbconvert_exporter": "python",
   "pygments_lexer": "ipython3",
   "version": "3.7.10"
  }
 },
 "nbformat": 4,
 "nbformat_minor": 4
}
